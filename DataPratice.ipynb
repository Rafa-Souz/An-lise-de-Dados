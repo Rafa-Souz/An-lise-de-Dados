{
 "cells": [
  {
   "cell_type": "code",
   "execution_count": 1,
   "metadata": {},
   "outputs": [],
   "source": [
    "\n",
    "import numpy as np\n",
    "import pandas as pd\n",
    "import matplotlib.pyplot as plt\n",
    "import seaborn as sns\n",
    "from sklearn.preprocessing import LabelEncoder\n",
    "\n",
    "%matplotlib inline"
   ]
  },
  {
   "cell_type": "code",
   "execution_count": 2,
   "metadata": {},
   "outputs": [],
   "source": [
    "data = pd.read_csv('HR_Engagement_Sat_Sales_UpdatedV4.0.csv')"
   ]
  },
  {
   "cell_type": "markdown",
   "metadata": {},
   "source": [
    "## Desafio 1"
   ]
  },
  {
   "cell_type": "code",
   "execution_count": 3,
   "metadata": {},
   "outputs": [
    {
     "data": {
      "text/html": [
       "<div>\n",
       "<style scoped>\n",
       "    .dataframe tbody tr th:only-of-type {\n",
       "        vertical-align: middle;\n",
       "    }\n",
       "\n",
       "    .dataframe tbody tr th {\n",
       "        vertical-align: top;\n",
       "    }\n",
       "\n",
       "    .dataframe thead th {\n",
       "        text-align: right;\n",
       "    }\n",
       "</style>\n",
       "<table border=\"1\" class=\"dataframe\">\n",
       "  <thead>\n",
       "    <tr style=\"text-align: right;\">\n",
       "      <th></th>\n",
       "      <th>ID</th>\n",
       "      <th>Name</th>\n",
       "      <th>Department</th>\n",
       "      <th>GEO</th>\n",
       "      <th>Role</th>\n",
       "      <th>Rising_Star</th>\n",
       "      <th>Will_Relocate</th>\n",
       "      <th>Critical</th>\n",
       "      <th>Trending Perf</th>\n",
       "      <th>Talent_Level</th>\n",
       "      <th>...</th>\n",
       "      <th>Emp_Competitive_4</th>\n",
       "      <th>Emp_Competitive_5</th>\n",
       "      <th>Emp_Collaborative_1</th>\n",
       "      <th>Emp_Collaborative_2</th>\n",
       "      <th>Emp_Collaborative_3</th>\n",
       "      <th>Emp_Collaborative_4</th>\n",
       "      <th>Emp_Collaborative_5</th>\n",
       "      <th>Sensor_StepCount</th>\n",
       "      <th>Sensor_Heartbeat(Average/Min)</th>\n",
       "      <th>Sensor_Proximity(1-highest/10-lowest)</th>\n",
       "    </tr>\n",
       "  </thead>\n",
       "  <tbody>\n",
       "    <tr>\n",
       "      <th>0</th>\n",
       "      <td>1</td>\n",
       "      <td>BRADDY</td>\n",
       "      <td>Operations</td>\n",
       "      <td>US</td>\n",
       "      <td>VP</td>\n",
       "      <td>NaN</td>\n",
       "      <td>0</td>\n",
       "      <td>1.0</td>\n",
       "      <td>3</td>\n",
       "      <td>6</td>\n",
       "      <td>...</td>\n",
       "      <td>2</td>\n",
       "      <td>2</td>\n",
       "      <td>2</td>\n",
       "      <td>2</td>\n",
       "      <td>2</td>\n",
       "      <td>1</td>\n",
       "      <td>5</td>\n",
       "      <td>1841</td>\n",
       "      <td>61</td>\n",
       "      <td>9</td>\n",
       "    </tr>\n",
       "    <tr>\n",
       "      <th>1</th>\n",
       "      <td>2</td>\n",
       "      <td>BORST</td>\n",
       "      <td>Sales</td>\n",
       "      <td>UK</td>\n",
       "      <td>Senior Director</td>\n",
       "      <td>NaN</td>\n",
       "      <td>0</td>\n",
       "      <td>NaN</td>\n",
       "      <td>3</td>\n",
       "      <td>6</td>\n",
       "      <td>...</td>\n",
       "      <td>4</td>\n",
       "      <td>1</td>\n",
       "      <td>3</td>\n",
       "      <td>2</td>\n",
       "      <td>5</td>\n",
       "      <td>1</td>\n",
       "      <td>5</td>\n",
       "      <td>1990</td>\n",
       "      <td>90</td>\n",
       "      <td>8</td>\n",
       "    </tr>\n",
       "    <tr>\n",
       "      <th>2</th>\n",
       "      <td>3</td>\n",
       "      <td>BIRDWELL</td>\n",
       "      <td>Finance</td>\n",
       "      <td>France</td>\n",
       "      <td>Senior Director</td>\n",
       "      <td>NaN</td>\n",
       "      <td>0</td>\n",
       "      <td>NaN</td>\n",
       "      <td>3</td>\n",
       "      <td>6</td>\n",
       "      <td>...</td>\n",
       "      <td>2</td>\n",
       "      <td>5</td>\n",
       "      <td>2</td>\n",
       "      <td>2</td>\n",
       "      <td>4</td>\n",
       "      <td>4</td>\n",
       "      <td>4</td>\n",
       "      <td>3193</td>\n",
       "      <td>80</td>\n",
       "      <td>8</td>\n",
       "    </tr>\n",
       "    <tr>\n",
       "      <th>3</th>\n",
       "      <td>4</td>\n",
       "      <td>BENT</td>\n",
       "      <td>Human Resources</td>\n",
       "      <td>China</td>\n",
       "      <td>Senior Director</td>\n",
       "      <td>NaN</td>\n",
       "      <td>0</td>\n",
       "      <td>NaN</td>\n",
       "      <td>3</td>\n",
       "      <td>6</td>\n",
       "      <td>...</td>\n",
       "      <td>5</td>\n",
       "      <td>1</td>\n",
       "      <td>1</td>\n",
       "      <td>2</td>\n",
       "      <td>4</td>\n",
       "      <td>4</td>\n",
       "      <td>1</td>\n",
       "      <td>3248</td>\n",
       "      <td>77</td>\n",
       "      <td>6</td>\n",
       "    </tr>\n",
       "    <tr>\n",
       "      <th>4</th>\n",
       "      <td>5</td>\n",
       "      <td>BAZAN</td>\n",
       "      <td>IT</td>\n",
       "      <td>Korea</td>\n",
       "      <td>Director</td>\n",
       "      <td>NaN</td>\n",
       "      <td>0</td>\n",
       "      <td>NaN</td>\n",
       "      <td>3</td>\n",
       "      <td>6</td>\n",
       "      <td>...</td>\n",
       "      <td>5</td>\n",
       "      <td>3</td>\n",
       "      <td>5</td>\n",
       "      <td>1</td>\n",
       "      <td>2</td>\n",
       "      <td>5</td>\n",
       "      <td>4</td>\n",
       "      <td>3149</td>\n",
       "      <td>80</td>\n",
       "      <td>10</td>\n",
       "    </tr>\n",
       "  </tbody>\n",
       "</table>\n",
       "<p>5 rows × 62 columns</p>\n",
       "</div>"
      ],
      "text/plain": [
       "   ID      Name       Department     GEO             Role  Rising_Star  \\\n",
       "0   1    BRADDY       Operations      US               VP          NaN   \n",
       "1   2     BORST            Sales      UK  Senior Director          NaN   \n",
       "2   3  BIRDWELL          Finance  France  Senior Director          NaN   \n",
       "3   4      BENT  Human Resources   China  Senior Director          NaN   \n",
       "4   5     BAZAN               IT   Korea         Director          NaN   \n",
       "\n",
       "   Will_Relocate  Critical  Trending Perf  Talent_Level  ...  \\\n",
       "0              0       1.0              3             6  ...   \n",
       "1              0       NaN              3             6  ...   \n",
       "2              0       NaN              3             6  ...   \n",
       "3              0       NaN              3             6  ...   \n",
       "4              0       NaN              3             6  ...   \n",
       "\n",
       "   Emp_Competitive_4  Emp_Competitive_5  Emp_Collaborative_1  \\\n",
       "0                  2                  2                    2   \n",
       "1                  4                  1                    3   \n",
       "2                  2                  5                    2   \n",
       "3                  5                  1                    1   \n",
       "4                  5                  3                    5   \n",
       "\n",
       "   Emp_Collaborative_2  Emp_Collaborative_3  Emp_Collaborative_4  \\\n",
       "0                    2                    2                    1   \n",
       "1                    2                    5                    1   \n",
       "2                    2                    4                    4   \n",
       "3                    2                    4                    4   \n",
       "4                    1                    2                    5   \n",
       "\n",
       "   Emp_Collaborative_5  Sensor_StepCount  Sensor_Heartbeat(Average/Min)  \\\n",
       "0                    5              1841                             61   \n",
       "1                    5              1990                             90   \n",
       "2                    4              3193                             80   \n",
       "3                    1              3248                             77   \n",
       "4                    4              3149                             80   \n",
       "\n",
       "   Sensor_Proximity(1-highest/10-lowest)  \n",
       "0                                      9  \n",
       "1                                      8  \n",
       "2                                      8  \n",
       "3                                      6  \n",
       "4                                     10  \n",
       "\n",
       "[5 rows x 62 columns]"
      ]
     },
     "execution_count": 3,
     "metadata": {},
     "output_type": "execute_result"
    }
   ],
   "source": [
    "data.head()\n",
    "\n",
    "##visualizar o DataFrame"
   ]
  },
  {
   "cell_type": "code",
   "execution_count": 4,
   "metadata": {},
   "outputs": [
    {
     "name": "stdout",
     "output_type": "stream",
     "text": [
      "<class 'pandas.core.frame.DataFrame'>\n",
      "RangeIndex: 14999 entries, 0 to 14998\n",
      "Data columns (total 62 columns):\n",
      " #   Column                                 Non-Null Count  Dtype  \n",
      "---  ------                                 --------------  -----  \n",
      " 0   ID                                     14999 non-null  int64  \n",
      " 1   Name                                   14997 non-null  object \n",
      " 2   Department                             14999 non-null  object \n",
      " 3   GEO                                    14999 non-null  object \n",
      " 4   Role                                   14999 non-null  object \n",
      " 5   Rising_Star                            21 non-null     float64\n",
      " 6   Will_Relocate                          14999 non-null  int64  \n",
      " 7   Critical                               480 non-null    float64\n",
      " 8   Trending Perf                          14999 non-null  int64  \n",
      " 9   Talent_Level                           14999 non-null  int64  \n",
      " 10  Validated_Talent_Level                 14999 non-null  int64  \n",
      " 11  Percent_Remote                         14999 non-null  float64\n",
      " 12  EMP_Sat_OnPrem_1                       14871 non-null  float64\n",
      " 13  EMP_Sat_OnPrem_2                       14871 non-null  float64\n",
      " 14  EMP_Sat_OnPrem_3                       14871 non-null  float64\n",
      " 15  EMP_Sat_OnPrem_4                       14871 non-null  float64\n",
      " 16  EMP_Sat_OnPrem_5                       14871 non-null  float64\n",
      " 17  EMP_Sat_Remote_1                       14999 non-null  int64  \n",
      " 18  EMP_Sat_Remote_2                       14999 non-null  int64  \n",
      " 19  EMP_Sat_Remote_3                       14999 non-null  int64  \n",
      " 20  EMP_Sat_Remote_4                       14999 non-null  int64  \n",
      " 21  EMP_Sat_Remote_5                       14999 non-null  int64  \n",
      " 22  EMP_Engagement_1                       14999 non-null  int64  \n",
      " 23  EMP_Engagement_2                       14999 non-null  int64  \n",
      " 24  EMP_Engagement_3                       14999 non-null  int64  \n",
      " 25  EMP_Engagement_4                       14999 non-null  int64  \n",
      " 26  EMP_Engagement_5                       14999 non-null  int64  \n",
      " 27  last_evaluation                        14999 non-null  float64\n",
      " 28  number_project                         14999 non-null  int64  \n",
      " 29  average_montly_hours                   14999 non-null  int64  \n",
      " 30  time_spend_company                     14999 non-null  int64  \n",
      " 31  Work_accident                          14999 non-null  int64  \n",
      " 32  left_Company                           14999 non-null  int64  \n",
      " 33  CSR Factor                             1713 non-null   float64\n",
      " 34  promotion_last_5years                  14999 non-null  int64  \n",
      " 35  sales                                  14999 non-null  object \n",
      " 36  salary                                 14999 non-null  object \n",
      " 37  Gender                                 14999 non-null  object \n",
      " 38  LinkedIn_Hits                          14999 non-null  int64  \n",
      " 39  Emp_Work_Status2                       14999 non-null  int64  \n",
      " 40  Emp_Work_Status_3                      14999 non-null  int64  \n",
      " 41  Emp_Work_Status_4                      14999 non-null  int64  \n",
      " 42  Emp_Work_Status_5                      14999 non-null  int64  \n",
      " 43  Emp_Identity                           14999 non-null  int64  \n",
      " 44  Emp_Role                               14999 non-null  int64  \n",
      " 45  Emp_Position                           14999 non-null  int64  \n",
      " 46  Emp_Title                              14999 non-null  int64  \n",
      " 47  Women_Leave                            7596 non-null   float64\n",
      " 48  Men_Leave                              4865 non-null   float64\n",
      " 49  Emp_Competitive_1                      14999 non-null  int64  \n",
      " 50  Emp_Competitive_2                      14999 non-null  int64  \n",
      " 51  Emp_Competitive_3                      14999 non-null  int64  \n",
      " 52  Emp_Competitive_4                      14999 non-null  int64  \n",
      " 53  Emp_Competitive_5                      14999 non-null  int64  \n",
      " 54  Emp_Collaborative_1                    14999 non-null  int64  \n",
      " 55  Emp_Collaborative_2                    14999 non-null  int64  \n",
      " 56  Emp_Collaborative_3                    14999 non-null  int64  \n",
      " 57  Emp_Collaborative_4                    14999 non-null  int64  \n",
      " 58  Emp_Collaborative_5                    14999 non-null  int64  \n",
      " 59  Sensor_StepCount                       14999 non-null  int64  \n",
      " 60  Sensor_Heartbeat(Average/Min)          14999 non-null  int64  \n",
      " 61  Sensor_Proximity(1-highest/10-lowest)  14999 non-null  int64  \n",
      "dtypes: float64(12), int64(43), object(7)\n",
      "memory usage: 7.1+ MB\n"
     ]
    }
   ],
   "source": [
    "data.info() \n",
    "##encontrar os dados não nulos e seus respectivos tipos"
   ]
  },
  {
   "cell_type": "code",
   "execution_count": null,
   "metadata": {},
   "outputs": [],
   "source": []
  },
  {
   "cell_type": "code",
   "execution_count": 5,
   "metadata": {},
   "outputs": [
    {
     "data": {
      "text/plain": [
       "UK           1772\n",
       "France       1699\n",
       "Korea        1685\n",
       "Japan        1669\n",
       "China        1667\n",
       "Colombia     1659\n",
       "Turkey       1639\n",
       "US           1632\n",
       "Australia    1577\n",
       "Name: GEO, dtype: int64"
      ]
     },
     "execution_count": 5,
     "metadata": {},
     "output_type": "execute_result"
    }
   ],
   "source": [
    "data['GEO'].value_counts()\n",
    "##quantidade de integrantes de cada país"
   ]
  },
  {
   "cell_type": "code",
   "execution_count": null,
   "metadata": {},
   "outputs": [],
   "source": []
  },
  {
   "cell_type": "code",
   "execution_count": 6,
   "metadata": {},
   "outputs": [
    {
     "data": {
      "text/plain": [
       "Level 2-4          6889\n",
       "Level 1            3270\n",
       "Manager            2420\n",
       "Senior Manager     1320\n",
       "Director            660\n",
       "Senior Director     330\n",
       "VP                  110\n",
       "Name: Role, dtype: int64"
      ]
     },
     "execution_count": 6,
     "metadata": {},
     "output_type": "execute_result"
    }
   ],
   "source": [
    "data['Role'].value_counts()\n",
    "##os tipos de cargos e quais são mais ocupados"
   ]
  },
  {
   "cell_type": "code",
   "execution_count": 7,
   "metadata": {},
   "outputs": [
    {
     "data": {
      "text/plain": [
       "6    14999\n",
       "Name: Talent_Level, dtype: int64"
      ]
     },
     "execution_count": 7,
     "metadata": {},
     "output_type": "execute_result"
    }
   ],
   "source": [
    "data['Talent_Level'].value_counts()\n",
    "## retirando coluna com valores repitidos do DataFrame"
   ]
  },
  {
   "cell_type": "code",
   "execution_count": 8,
   "metadata": {},
   "outputs": [
    {
     "data": {
      "text/plain": [
       "1.0    480\n",
       "Name: Critical, dtype: int64"
      ]
     },
     "execution_count": 8,
     "metadata": {},
     "output_type": "execute_result"
    }
   ],
   "source": [
    "data['Critical'].value_counts()\n",
    "## retirando coluna com valores nulos do DataFrame"
   ]
  },
  {
   "cell_type": "code",
   "execution_count": 9,
   "metadata": {},
   "outputs": [
    {
     "data": {
      "text/plain": [
       "3    14999\n",
       "Name: Trending Perf, dtype: int64"
      ]
     },
     "execution_count": 9,
     "metadata": {},
     "output_type": "execute_result"
    }
   ],
   "source": [
    "data['Trending Perf'].value_counts()                  \n",
    "## retirando coluna com valores repitidos do DataFrame"
   ]
  },
  {
   "cell_type": "code",
   "execution_count": 10,
   "metadata": {},
   "outputs": [
    {
     "data": {
      "text/plain": [
       "6    14999\n",
       "Name: Talent_Level, dtype: int64"
      ]
     },
     "execution_count": 10,
     "metadata": {},
     "output_type": "execute_result"
    }
   ],
   "source": [
    "data['Talent_Level'].value_counts()\n",
    "## retirando coluna com valores repitidos do DataFrame"
   ]
  },
  {
   "cell_type": "code",
   "execution_count": 11,
   "metadata": {},
   "outputs": [
    {
     "data": {
      "text/plain": [
       "6    14999\n",
       "Name: Validated_Talent_Level, dtype: int64"
      ]
     },
     "execution_count": 11,
     "metadata": {},
     "output_type": "execute_result"
    }
   ],
   "source": [
    "data['Validated_Talent_Level'].value_counts()\n",
    "## retirando coluna com valores repitidos do DataFrame"
   ]
  },
  {
   "cell_type": "code",
   "execution_count": 12,
   "metadata": {},
   "outputs": [
    {
     "data": {
      "text/plain": [
       "0.8    7853\n",
       "0.4    6022\n",
       "0.5    1112\n",
       "1.0      12\n",
       "Name: Percent_Remote, dtype: int64"
      ]
     },
     "execution_count": 12,
     "metadata": {},
     "output_type": "execute_result"
    }
   ],
   "source": [
    "data['Percent_Remote'].value_counts()\n",
    "##Analisando os valores desta coluna"
   ]
  },
  {
   "cell_type": "code",
   "execution_count": 13,
   "metadata": {},
   "outputs": [
    {
     "data": {
      "text/plain": [
       "0.55    358\n",
       "0.50    353\n",
       "0.54    350\n",
       "0.51    345\n",
       "0.57    333\n",
       "       ... \n",
       "0.39     52\n",
       "0.43     50\n",
       "0.38     50\n",
       "0.44     44\n",
       "0.36     22\n",
       "Name: last_evaluation, Length: 65, dtype: int64"
      ]
     },
     "execution_count": 13,
     "metadata": {},
     "output_type": "execute_result"
    }
   ],
   "source": [
    "data['last_evaluation'].value_counts()\n",
    "##Analisando os valores desta coluna"
   ]
  },
  {
   "cell_type": "code",
   "execution_count": 14,
   "metadata": {},
   "outputs": [
    {
     "data": {
      "text/plain": [
       "5.0    1713\n",
       "Name: CSR Factor, dtype: int64"
      ]
     },
     "execution_count": 14,
     "metadata": {},
     "output_type": "execute_result"
    }
   ],
   "source": [
    "data['CSR Factor'].value_counts()\n",
    "## retirando coluna com valores nulos do DataFrame"
   ]
  },
  {
   "cell_type": "code",
   "execution_count": 15,
   "metadata": {},
   "outputs": [
    {
     "data": {
      "text/plain": [
       "0    14680\n",
       "1      319\n",
       "Name: promotion_last_5years, dtype: int64"
      ]
     },
     "execution_count": 15,
     "metadata": {},
     "output_type": "execute_result"
    }
   ],
   "source": [
    "data['promotion_last_5years'].value_counts()\n",
    "## retirando coluna com valores repitidos do DataFrame"
   ]
  },
  {
   "cell_type": "code",
   "execution_count": 16,
   "metadata": {},
   "outputs": [
    {
     "data": {
      "text/plain": [
       "2    6396\n",
       "1    4425\n",
       "4    2067\n",
       "3    1961\n",
       "5     150\n",
       "Name: Emp_Identity, dtype: int64"
      ]
     },
     "execution_count": 16,
     "metadata": {},
     "output_type": "execute_result"
    }
   ],
   "source": [
    "data['Emp_Identity'].value_counts()\n",
    "##Analisando os valores desta coluna"
   ]
  },
  {
   "cell_type": "code",
   "execution_count": 17,
   "metadata": {},
   "outputs": [
    {
     "data": {
      "text/plain": [
       "2    6490\n",
       "1    4498\n",
       "3    1937\n",
       "4    1917\n",
       "5     157\n",
       "Name: Emp_Role, dtype: int64"
      ]
     },
     "execution_count": 17,
     "metadata": {},
     "output_type": "execute_result"
    }
   ],
   "source": [
    "data['Emp_Role'].value_counts()\n",
    "##Analisando os valores desta coluna"
   ]
  },
  {
   "cell_type": "code",
   "execution_count": 18,
   "metadata": {},
   "outputs": [
    {
     "data": {
      "text/plain": [
       "2    7025\n",
       "1    4518\n",
       "3    2490\n",
       "4     894\n",
       "5      72\n",
       "Name: Emp_Position, dtype: int64"
      ]
     },
     "execution_count": 18,
     "metadata": {},
     "output_type": "execute_result"
    }
   ],
   "source": [
    "data['Emp_Position'].value_counts()\n",
    "##Analisando os valores desta coluna"
   ]
  },
  {
   "cell_type": "code",
   "execution_count": 19,
   "metadata": {},
   "outputs": [
    {
     "data": {
      "text/plain": [
       "2    6971\n",
       "1    4570\n",
       "3    2535\n",
       "4     883\n",
       "5      40\n",
       "Name: Emp_Title, dtype: int64"
      ]
     },
     "execution_count": 19,
     "metadata": {},
     "output_type": "execute_result"
    }
   ],
   "source": [
    "data['Emp_Title'].value_counts()\n",
    "##Analisando os valores desta coluna"
   ]
  },
  {
   "cell_type": "code",
   "execution_count": 20,
   "metadata": {},
   "outputs": [
    {
     "data": {
      "text/plain": [
       "1150    15\n",
       "1145    14\n",
       "1660    13\n",
       "1758    13\n",
       "1518    12\n",
       "        ..\n",
       "8168     1\n",
       "2027     1\n",
       "8184     1\n",
       "6151     1\n",
       "2049     1\n",
       "Name: Sensor_StepCount, Length: 4970, dtype: int64"
      ]
     },
     "execution_count": 20,
     "metadata": {},
     "output_type": "execute_result"
    }
   ],
   "source": [
    "data['Sensor_StepCount'].value_counts()\n",
    "##Analisando os valores desta coluna"
   ]
  },
  {
   "cell_type": "code",
   "execution_count": 21,
   "metadata": {},
   "outputs": [
    {
     "data": {
      "text/plain": [
       "75    1363\n",
       "79    1229\n",
       "77    1191\n",
       "80    1173\n",
       "78    1162\n",
       "76    1145\n",
       "85     728\n",
       "89     678\n",
       "90     666\n",
       "87     665\n",
       "88     644\n",
       "86     638\n",
       "73     432\n",
       "71     426\n",
       "72     425\n",
       "74     420\n",
       "70     391\n",
       "60     177\n",
       "61     168\n",
       "66     168\n",
       "65     164\n",
       "64     162\n",
       "67     161\n",
       "62     161\n",
       "63     161\n",
       "69     158\n",
       "68     143\n",
       "Name: Sensor_Heartbeat(Average/Min), dtype: int64"
      ]
     },
     "execution_count": 21,
     "metadata": {},
     "output_type": "execute_result"
    }
   ],
   "source": [
    "data['Sensor_Heartbeat(Average/Min)'].value_counts()\n",
    "##Analisando os valores desta coluna"
   ]
  },
  {
   "cell_type": "code",
   "execution_count": null,
   "metadata": {},
   "outputs": [],
   "source": []
  },
  {
   "cell_type": "code",
   "execution_count": null,
   "metadata": {},
   "outputs": [],
   "source": []
  },
  {
   "cell_type": "code",
   "execution_count": 22,
   "metadata": {},
   "outputs": [
    {
     "data": {
      "text/plain": [
       "0        1.0\n",
       "1        NaN\n",
       "2        NaN\n",
       "3        1.0\n",
       "4        NaN\n",
       "        ... \n",
       "14994    NaN\n",
       "14995    NaN\n",
       "14996    NaN\n",
       "14997    1.0\n",
       "14998    NaN\n",
       "Name: Men_Leave, Length: 14999, dtype: float64"
      ]
     },
     "execution_count": 22,
     "metadata": {},
     "output_type": "execute_result"
    }
   ],
   "source": [
    "data['Men_Leave']\n",
    "##vizualização para verificar distribuição de dados"
   ]
  },
  {
   "cell_type": "code",
   "execution_count": 23,
   "metadata": {},
   "outputs": [
    {
     "data": {
      "text/plain": [
       "0        NaN\n",
       "1        0.0\n",
       "2        1.0\n",
       "3        NaN\n",
       "4        1.0\n",
       "        ... \n",
       "14994    1.0\n",
       "14995    1.0\n",
       "14996    1.0\n",
       "14997    NaN\n",
       "14998    0.0\n",
       "Name: Women_Leave, Length: 14999, dtype: float64"
      ]
     },
     "execution_count": 23,
     "metadata": {},
     "output_type": "execute_result"
    }
   ],
   "source": [
    "data['Women_Leave']\n",
    "##vizualização para verificar distribuição de dados"
   ]
  },
  {
   "cell_type": "markdown",
   "metadata": {},
   "source": [
    "*Aparementemente as colunas se referem individualmente a saída de mulheres e homens. Irei uni-las em uma só coluna para compensar os dados ausentes em ambas. Para isso converterei os dados ausentes para 0 nas duas colunas e somarei elas em uma coluna de nome 'Leave'.*"
   ]
  },
  {
   "cell_type": "code",
   "execution_count": null,
   "metadata": {},
   "outputs": [],
   "source": []
  },
  {
   "cell_type": "code",
   "execution_count": 24,
   "metadata": {},
   "outputs": [],
   "source": [
    "ML = data['Men_Leave'].fillna(0)\n",
    "##Instânciando a coluna Man_Leave"
   ]
  },
  {
   "cell_type": "code",
   "execution_count": 25,
   "metadata": {},
   "outputs": [],
   "source": [
    "WL = data['Women_Leave'].fillna(0)\n",
    "##Instânciando a coluna Women_Leave"
   ]
  },
  {
   "cell_type": "code",
   "execution_count": 26,
   "metadata": {},
   "outputs": [],
   "source": [
    "data['Leave'] = ML + WL\n",
    "##Criando coluna Leave"
   ]
  },
  {
   "cell_type": "code",
   "execution_count": null,
   "metadata": {},
   "outputs": [],
   "source": []
  },
  {
   "cell_type": "code",
   "execution_count": 27,
   "metadata": {},
   "outputs": [
    {
     "data": {
      "text/plain": [
       "0    11428\n",
       "1     3571\n",
       "Name: left_Company, dtype: int64"
      ]
     },
     "execution_count": 27,
     "metadata": {},
     "output_type": "execute_result"
    }
   ],
   "source": [
    "data['left_Company'].value_counts()\n",
    "##Desconsiderando este dado de saída"
   ]
  },
  {
   "cell_type": "code",
   "execution_count": 28,
   "metadata": {},
   "outputs": [
    {
     "data": {
      "text/plain": [
       "1.0    9796\n",
       "0.0    5203\n",
       "Name: Leave, dtype: int64"
      ]
     },
     "execution_count": 28,
     "metadata": {},
     "output_type": "execute_result"
    }
   ],
   "source": [
    "data['Leave'].value_counts()\n",
    "##Considerando este dado de saída, pois foi baseado na saída indivual do número de homens e de mulheres"
   ]
  },
  {
   "cell_type": "code",
   "execution_count": null,
   "metadata": {},
   "outputs": [],
   "source": []
  },
  {
   "cell_type": "code",
   "execution_count": null,
   "metadata": {},
   "outputs": [],
   "source": []
  },
  {
   "cell_type": "code",
   "execution_count": null,
   "metadata": {},
   "outputs": [],
   "source": []
  },
  {
   "cell_type": "markdown",
   "metadata": {},
   "source": [
    "Agora criarei uma coluna que se baseará nos na média dos valores das linhas das colunas de Engagement(5 colunas), Emp_Competitive, Emp_Collaborative, Emp_Work, EMP_Sat_OnPrem, EMP_Sat_Remote.\n",
    "\n",
    "**Serão estas:**\n",
    "\n",
    "EMP_Engagement_mean\n",
    "\n",
    "Emp_Competitive_mean\n",
    "\n",
    "Emp_Collaborative_mean\n",
    "\n",
    "Emp_Work_mean\n",
    "\n",
    "EMP_Sat_OnPrem_mean\n",
    "\n",
    "EMP_Sat_Remote_mean"
   ]
  },
  {
   "cell_type": "code",
   "execution_count": 29,
   "metadata": {},
   "outputs": [],
   "source": [
    "data['EMP_Engagement_mean'] = data[[\"EMP_Engagement_1\", \"EMP_Engagement_2\", \"EMP_Engagement_3\", \"EMP_Engagement_4\", \"EMP_Engagement_5\"]].mean(axis=1)"
   ]
  },
  {
   "cell_type": "code",
   "execution_count": 30,
   "metadata": {},
   "outputs": [],
   "source": [
    "data['Emp_Competitive_mean'] = data[[\"Emp_Competitive_1\", \"Emp_Competitive_2\", \"Emp_Competitive_3\", \"Emp_Competitive_4\", \"Emp_Competitive_5\"]].mean(axis=1)"
   ]
  },
  {
   "cell_type": "code",
   "execution_count": 31,
   "metadata": {},
   "outputs": [],
   "source": [
    " data['Emp_Collaborative_mean'] = data[[\"Emp_Collaborative_1\", \"Emp_Collaborative_2\", \"Emp_Collaborative_3\", \"Emp_Collaborative_4\", \"Emp_Collaborative_5\"]].mean(axis=1)"
   ]
  },
  {
   "cell_type": "code",
   "execution_count": 32,
   "metadata": {},
   "outputs": [],
   "source": [
    "data['Emp_Work_mean'] = data[['Emp_Work_Status2','Emp_Work_Status_3','Emp_Work_Status_4','Emp_Work_Status_5']].mean(axis=1)"
   ]
  },
  {
   "cell_type": "code",
   "execution_count": 33,
   "metadata": {},
   "outputs": [],
   "source": [
    "data['EMP_Sat_OnPrem_mean'] = data[['EMP_Sat_OnPrem_1' , 'EMP_Sat_OnPrem_2', 'EMP_Sat_OnPrem_3', 'EMP_Sat_OnPrem_4', 'EMP_Sat_OnPrem_5']].mean(axis=1)"
   ]
  },
  {
   "cell_type": "code",
   "execution_count": 34,
   "metadata": {},
   "outputs": [],
   "source": [
    "data['EMP_Sat_Remote_mean'] = data[['EMP_Sat_Remote_1', 'EMP_Sat_Remote_2', 'EMP_Sat_Remote_3', 'EMP_Sat_Remote_4', 'EMP_Sat_Remote_5']].mean(axis=1)"
   ]
  },
  {
   "cell_type": "code",
   "execution_count": null,
   "metadata": {},
   "outputs": [],
   "source": []
  },
  {
   "cell_type": "code",
   "execution_count": 35,
   "metadata": {},
   "outputs": [
    {
     "data": {
      "text/plain": [
       "0        3.6\n",
       "1        3.6\n",
       "2        3.6\n",
       "3        3.6\n",
       "4        3.6\n",
       "        ... \n",
       "14994    0.0\n",
       "14995    0.0\n",
       "14996    0.0\n",
       "14997    0.0\n",
       "14998    0.0\n",
       "Name: EMP_Sat_OnPrem_mean, Length: 14999, dtype: float64"
      ]
     },
     "execution_count": 35,
     "metadata": {},
     "output_type": "execute_result"
    }
   ],
   "source": [
    "data['EMP_Sat_OnPrem_mean'].fillna(0)\n",
    "##Para retirar os valores nulos desta coluna e converte-los para zero"
   ]
  },
  {
   "cell_type": "code",
   "execution_count": null,
   "metadata": {},
   "outputs": [],
   "source": []
  },
  {
   "cell_type": "markdown",
   "metadata": {},
   "source": [
    "A seguir, irei alterar o tipo de dado nas colunas de 'Department', 'GEO', 'Role', 'sales', 'salary' e 'Gender' para numeral. Isto irá transformar dados que estão como objetos em int, assim possibilitando uma análise com o máximo possível de dados."
   ]
  },
  {
   "cell_type": "code",
   "execution_count": 36,
   "metadata": {},
   "outputs": [],
   "source": [
    "label_encoder = LabelEncoder()"
   ]
  },
  {
   "cell_type": "code",
   "execution_count": 37,
   "metadata": {},
   "outputs": [
    {
     "data": {
      "text/plain": [
       "{'Finance', 'Human Resources', 'IT', 'Operations', 'Sales', 'Warehouse'}"
      ]
     },
     "execution_count": 37,
     "metadata": {},
     "output_type": "execute_result"
    }
   ],
   "source": [
    "set(data['Department'])"
   ]
  },
  {
   "cell_type": "code",
   "execution_count": 38,
   "metadata": {},
   "outputs": [],
   "source": [
    "data['Department'] = label_encoder.fit_transform(data['Department'])"
   ]
  },
  {
   "cell_type": "code",
   "execution_count": 39,
   "metadata": {},
   "outputs": [],
   "source": [
    "data['GEO'] = label_encoder.fit_transform(data['GEO'])"
   ]
  },
  {
   "cell_type": "code",
   "execution_count": 40,
   "metadata": {},
   "outputs": [],
   "source": [
    "data['Role'] = label_encoder.fit_transform(data['Role'])"
   ]
  },
  {
   "cell_type": "code",
   "execution_count": 41,
   "metadata": {},
   "outputs": [],
   "source": [
    "data['sales'] = label_encoder.fit_transform(data['sales'])"
   ]
  },
  {
   "cell_type": "code",
   "execution_count": 42,
   "metadata": {},
   "outputs": [],
   "source": [
    "data['salary'] = label_encoder.fit_transform(data['salary'])"
   ]
  },
  {
   "cell_type": "code",
   "execution_count": 43,
   "metadata": {},
   "outputs": [],
   "source": [
    "data['Gender'] = label_encoder.fit_transform(data['Gender'])"
   ]
  },
  {
   "cell_type": "code",
   "execution_count": null,
   "metadata": {},
   "outputs": [],
   "source": []
  },
  {
   "cell_type": "code",
   "execution_count": 44,
   "metadata": {},
   "outputs": [
    {
     "data": {
      "text/plain": [
       "Index(['ID', 'Name', 'Department', 'GEO', 'Role', 'Rising_Star',\n",
       "       'Will_Relocate', 'Critical', 'Trending Perf', 'Talent_Level',\n",
       "       'Validated_Talent_Level', 'Percent_Remote', 'EMP_Sat_OnPrem_1',\n",
       "       'EMP_Sat_OnPrem_2', 'EMP_Sat_OnPrem_3', 'EMP_Sat_OnPrem_4',\n",
       "       'EMP_Sat_OnPrem_5', 'EMP_Sat_Remote_1', 'EMP_Sat_Remote_2',\n",
       "       'EMP_Sat_Remote_3', 'EMP_Sat_Remote_4', 'EMP_Sat_Remote_5',\n",
       "       'EMP_Engagement_1', 'EMP_Engagement_2', 'EMP_Engagement_3',\n",
       "       'EMP_Engagement_4', 'EMP_Engagement_5', 'last_evaluation',\n",
       "       'number_project', 'average_montly_hours', 'time_spend_company',\n",
       "       'Work_accident', 'left_Company', 'CSR Factor', 'promotion_last_5years',\n",
       "       'sales', 'salary', 'Gender', 'LinkedIn_Hits', 'Emp_Work_Status2',\n",
       "       'Emp_Work_Status_3', 'Emp_Work_Status_4', 'Emp_Work_Status_5',\n",
       "       'Emp_Identity', 'Emp_Role', 'Emp_Position', 'Emp_Title', 'Women_Leave',\n",
       "       'Men_Leave', 'Emp_Competitive_1', 'Emp_Competitive_2',\n",
       "       'Emp_Competitive_3', 'Emp_Competitive_4', 'Emp_Competitive_5',\n",
       "       'Emp_Collaborative_1', 'Emp_Collaborative_2', 'Emp_Collaborative_3',\n",
       "       'Emp_Collaborative_4', 'Emp_Collaborative_5', 'Sensor_StepCount',\n",
       "       'Sensor_Heartbeat(Average/Min)',\n",
       "       'Sensor_Proximity(1-highest/10-lowest)', 'Leave', 'EMP_Engagement_mean',\n",
       "       'Emp_Competitive_mean', 'Emp_Collaborative_mean', 'Emp_Work_mean',\n",
       "       'EMP_Sat_OnPrem_mean', 'EMP_Sat_Remote_mean'],\n",
       "      dtype='object')"
      ]
     },
     "execution_count": 44,
     "metadata": {},
     "output_type": "execute_result"
    }
   ],
   "source": [
    "data.columns\n",
    "##Para vizualizar todas as informações do DataFrame e filtrar as necessárias."
   ]
  },
  {
   "cell_type": "markdown",
   "metadata": {},
   "source": [
    "'Sensor_Heartbeat(Average/Min)', 'Sensor_StepCount', 'Emp_Title' , 'Emp_Position', 'Emp_Role', 'Emp_Identity', 'Gender', 'salary', 'sales', 'last_evaluation', 'EMP_Sat_Remote_mean', 'EMP_Sat_OnPrem_mean' ,'Percent_Remote' ,'Emp_Work_mean' ,'Role' , 'GEO' ,'Department', 'number_project', 'average_montly_hours', 'time_spend_company', 'Work_accident', 'promotion_last_5years', 'LinkedIn_Hits', 'Leave', 'EMP_Engagement_mean', 'Emp_Competitive_mean', 'Emp_Collaborative_mean'\n",
    "\n",
    "**Estes são os dados de análise que irei analisar separadamente em outro DataFrame para testar sua correlação e efeitos uns nos outros**"
   ]
  },
  {
   "cell_type": "code",
   "execution_count": 45,
   "metadata": {},
   "outputs": [],
   "source": [
    "filtro = ['Sensor_Heartbeat(Average/Min)', 'Sensor_StepCount', 'Emp_Title' , 'Emp_Position', 'Emp_Role', 'Emp_Identity', 'Gender', 'salary', 'sales', 'last_evaluation', 'EMP_Sat_Remote_mean', 'EMP_Sat_OnPrem_mean' ,'Percent_Remote' ,'Emp_Work_mean' ,'Role' , 'GEO' ,'Department', 'number_project', 'average_montly_hours', 'time_spend_company', 'Work_accident', 'promotion_last_5years', 'LinkedIn_Hits', 'Leave', 'EMP_Engagement_mean', 'Emp_Competitive_mean', 'Emp_Collaborative_mean']"
   ]
  },
  {
   "cell_type": "code",
   "execution_count": 46,
   "metadata": {},
   "outputs": [],
   "source": [
    "dataFilt = data.filter(items = filtro)"
   ]
  },
  {
   "cell_type": "code",
   "execution_count": 47,
   "metadata": {},
   "outputs": [
    {
     "data": {
      "text/html": [
       "<div>\n",
       "<style scoped>\n",
       "    .dataframe tbody tr th:only-of-type {\n",
       "        vertical-align: middle;\n",
       "    }\n",
       "\n",
       "    .dataframe tbody tr th {\n",
       "        vertical-align: top;\n",
       "    }\n",
       "\n",
       "    .dataframe thead th {\n",
       "        text-align: right;\n",
       "    }\n",
       "</style>\n",
       "<table border=\"1\" class=\"dataframe\">\n",
       "  <thead>\n",
       "    <tr style=\"text-align: right;\">\n",
       "      <th></th>\n",
       "      <th>Sensor_Heartbeat(Average/Min)</th>\n",
       "      <th>Sensor_StepCount</th>\n",
       "      <th>Emp_Title</th>\n",
       "      <th>Emp_Position</th>\n",
       "      <th>Emp_Role</th>\n",
       "      <th>Emp_Identity</th>\n",
       "      <th>Gender</th>\n",
       "      <th>salary</th>\n",
       "      <th>sales</th>\n",
       "      <th>last_evaluation</th>\n",
       "      <th>...</th>\n",
       "      <th>number_project</th>\n",
       "      <th>average_montly_hours</th>\n",
       "      <th>time_spend_company</th>\n",
       "      <th>Work_accident</th>\n",
       "      <th>promotion_last_5years</th>\n",
       "      <th>LinkedIn_Hits</th>\n",
       "      <th>Leave</th>\n",
       "      <th>EMP_Engagement_mean</th>\n",
       "      <th>Emp_Competitive_mean</th>\n",
       "      <th>Emp_Collaborative_mean</th>\n",
       "    </tr>\n",
       "  </thead>\n",
       "  <tbody>\n",
       "    <tr>\n",
       "      <th>0</th>\n",
       "      <td>61</td>\n",
       "      <td>1841</td>\n",
       "      <td>1</td>\n",
       "      <td>2</td>\n",
       "      <td>1</td>\n",
       "      <td>1</td>\n",
       "      <td>1</td>\n",
       "      <td>1</td>\n",
       "      <td>7</td>\n",
       "      <td>0.36</td>\n",
       "      <td>...</td>\n",
       "      <td>3</td>\n",
       "      <td>168</td>\n",
       "      <td>3</td>\n",
       "      <td>1</td>\n",
       "      <td>0</td>\n",
       "      <td>5</td>\n",
       "      <td>1.0</td>\n",
       "      <td>4.2</td>\n",
       "      <td>2.4</td>\n",
       "      <td>2.4</td>\n",
       "    </tr>\n",
       "    <tr>\n",
       "      <th>1</th>\n",
       "      <td>90</td>\n",
       "      <td>1990</td>\n",
       "      <td>1</td>\n",
       "      <td>2</td>\n",
       "      <td>1</td>\n",
       "      <td>2</td>\n",
       "      <td>0</td>\n",
       "      <td>1</td>\n",
       "      <td>2</td>\n",
       "      <td>0.36</td>\n",
       "      <td>...</td>\n",
       "      <td>5</td>\n",
       "      <td>159</td>\n",
       "      <td>2</td>\n",
       "      <td>0</td>\n",
       "      <td>0</td>\n",
       "      <td>58</td>\n",
       "      <td>0.0</td>\n",
       "      <td>4.2</td>\n",
       "      <td>2.0</td>\n",
       "      <td>3.2</td>\n",
       "    </tr>\n",
       "    <tr>\n",
       "      <th>2</th>\n",
       "      <td>80</td>\n",
       "      <td>3193</td>\n",
       "      <td>2</td>\n",
       "      <td>2</td>\n",
       "      <td>1</td>\n",
       "      <td>1</td>\n",
       "      <td>0</td>\n",
       "      <td>2</td>\n",
       "      <td>6</td>\n",
       "      <td>0.36</td>\n",
       "      <td>...</td>\n",
       "      <td>2</td>\n",
       "      <td>282</td>\n",
       "      <td>3</td>\n",
       "      <td>0</td>\n",
       "      <td>0</td>\n",
       "      <td>42</td>\n",
       "      <td>1.0</td>\n",
       "      <td>4.2</td>\n",
       "      <td>2.8</td>\n",
       "      <td>3.2</td>\n",
       "    </tr>\n",
       "    <tr>\n",
       "      <th>3</th>\n",
       "      <td>77</td>\n",
       "      <td>3248</td>\n",
       "      <td>1</td>\n",
       "      <td>2</td>\n",
       "      <td>1</td>\n",
       "      <td>2</td>\n",
       "      <td>1</td>\n",
       "      <td>0</td>\n",
       "      <td>6</td>\n",
       "      <td>0.36</td>\n",
       "      <td>...</td>\n",
       "      <td>4</td>\n",
       "      <td>278</td>\n",
       "      <td>4</td>\n",
       "      <td>1</td>\n",
       "      <td>0</td>\n",
       "      <td>37</td>\n",
       "      <td>1.0</td>\n",
       "      <td>4.2</td>\n",
       "      <td>2.0</td>\n",
       "      <td>2.4</td>\n",
       "    </tr>\n",
       "    <tr>\n",
       "      <th>4</th>\n",
       "      <td>80</td>\n",
       "      <td>3149</td>\n",
       "      <td>1</td>\n",
       "      <td>2</td>\n",
       "      <td>1</td>\n",
       "      <td>1</td>\n",
       "      <td>0</td>\n",
       "      <td>1</td>\n",
       "      <td>7</td>\n",
       "      <td>0.36</td>\n",
       "      <td>...</td>\n",
       "      <td>6</td>\n",
       "      <td>256</td>\n",
       "      <td>5</td>\n",
       "      <td>0</td>\n",
       "      <td>0</td>\n",
       "      <td>6</td>\n",
       "      <td>1.0</td>\n",
       "      <td>4.2</td>\n",
       "      <td>2.8</td>\n",
       "      <td>3.4</td>\n",
       "    </tr>\n",
       "    <tr>\n",
       "      <th>...</th>\n",
       "      <td>...</td>\n",
       "      <td>...</td>\n",
       "      <td>...</td>\n",
       "      <td>...</td>\n",
       "      <td>...</td>\n",
       "      <td>...</td>\n",
       "      <td>...</td>\n",
       "      <td>...</td>\n",
       "      <td>...</td>\n",
       "      <td>...</td>\n",
       "      <td>...</td>\n",
       "      <td>...</td>\n",
       "      <td>...</td>\n",
       "      <td>...</td>\n",
       "      <td>...</td>\n",
       "      <td>...</td>\n",
       "      <td>...</td>\n",
       "      <td>...</td>\n",
       "      <td>...</td>\n",
       "      <td>...</td>\n",
       "      <td>...</td>\n",
       "    </tr>\n",
       "    <tr>\n",
       "      <th>14994</th>\n",
       "      <td>88</td>\n",
       "      <td>1538</td>\n",
       "      <td>1</td>\n",
       "      <td>2</td>\n",
       "      <td>1</td>\n",
       "      <td>2</td>\n",
       "      <td>0</td>\n",
       "      <td>2</td>\n",
       "      <td>9</td>\n",
       "      <td>1.00</td>\n",
       "      <td>...</td>\n",
       "      <td>4</td>\n",
       "      <td>252</td>\n",
       "      <td>5</td>\n",
       "      <td>0</td>\n",
       "      <td>0</td>\n",
       "      <td>1</td>\n",
       "      <td>1.0</td>\n",
       "      <td>1.8</td>\n",
       "      <td>1.8</td>\n",
       "      <td>2.4</td>\n",
       "    </tr>\n",
       "    <tr>\n",
       "      <th>14995</th>\n",
       "      <td>89</td>\n",
       "      <td>1247</td>\n",
       "      <td>1</td>\n",
       "      <td>2</td>\n",
       "      <td>2</td>\n",
       "      <td>1</td>\n",
       "      <td>0</td>\n",
       "      <td>2</td>\n",
       "      <td>9</td>\n",
       "      <td>1.00</td>\n",
       "      <td>...</td>\n",
       "      <td>4</td>\n",
       "      <td>232</td>\n",
       "      <td>5</td>\n",
       "      <td>0</td>\n",
       "      <td>0</td>\n",
       "      <td>6</td>\n",
       "      <td>1.0</td>\n",
       "      <td>1.8</td>\n",
       "      <td>3.0</td>\n",
       "      <td>3.6</td>\n",
       "    </tr>\n",
       "    <tr>\n",
       "      <th>14996</th>\n",
       "      <td>88</td>\n",
       "      <td>1155</td>\n",
       "      <td>1</td>\n",
       "      <td>2</td>\n",
       "      <td>1</td>\n",
       "      <td>1</td>\n",
       "      <td>0</td>\n",
       "      <td>1</td>\n",
       "      <td>7</td>\n",
       "      <td>1.00</td>\n",
       "      <td>...</td>\n",
       "      <td>5</td>\n",
       "      <td>242</td>\n",
       "      <td>5</td>\n",
       "      <td>0</td>\n",
       "      <td>0</td>\n",
       "      <td>4</td>\n",
       "      <td>1.0</td>\n",
       "      <td>1.8</td>\n",
       "      <td>2.2</td>\n",
       "      <td>3.6</td>\n",
       "    </tr>\n",
       "    <tr>\n",
       "      <th>14997</th>\n",
       "      <td>86</td>\n",
       "      <td>1210</td>\n",
       "      <td>1</td>\n",
       "      <td>1</td>\n",
       "      <td>2</td>\n",
       "      <td>1</td>\n",
       "      <td>1</td>\n",
       "      <td>2</td>\n",
       "      <td>2</td>\n",
       "      <td>1.00</td>\n",
       "      <td>...</td>\n",
       "      <td>5</td>\n",
       "      <td>223</td>\n",
       "      <td>6</td>\n",
       "      <td>0</td>\n",
       "      <td>0</td>\n",
       "      <td>2</td>\n",
       "      <td>1.0</td>\n",
       "      <td>1.8</td>\n",
       "      <td>2.0</td>\n",
       "      <td>2.4</td>\n",
       "    </tr>\n",
       "    <tr>\n",
       "      <th>14998</th>\n",
       "      <td>86</td>\n",
       "      <td>1639</td>\n",
       "      <td>1</td>\n",
       "      <td>2</td>\n",
       "      <td>2</td>\n",
       "      <td>2</td>\n",
       "      <td>0</td>\n",
       "      <td>1</td>\n",
       "      <td>7</td>\n",
       "      <td>1.00</td>\n",
       "      <td>...</td>\n",
       "      <td>2</td>\n",
       "      <td>155</td>\n",
       "      <td>5</td>\n",
       "      <td>0</td>\n",
       "      <td>0</td>\n",
       "      <td>6</td>\n",
       "      <td>0.0</td>\n",
       "      <td>1.8</td>\n",
       "      <td>2.2</td>\n",
       "      <td>2.4</td>\n",
       "    </tr>\n",
       "  </tbody>\n",
       "</table>\n",
       "<p>14999 rows × 27 columns</p>\n",
       "</div>"
      ],
      "text/plain": [
       "       Sensor_Heartbeat(Average/Min)  Sensor_StepCount  Emp_Title  \\\n",
       "0                                 61              1841          1   \n",
       "1                                 90              1990          1   \n",
       "2                                 80              3193          2   \n",
       "3                                 77              3248          1   \n",
       "4                                 80              3149          1   \n",
       "...                              ...               ...        ...   \n",
       "14994                             88              1538          1   \n",
       "14995                             89              1247          1   \n",
       "14996                             88              1155          1   \n",
       "14997                             86              1210          1   \n",
       "14998                             86              1639          1   \n",
       "\n",
       "       Emp_Position  Emp_Role  Emp_Identity  Gender  salary  sales  \\\n",
       "0                 2         1             1       1       1      7   \n",
       "1                 2         1             2       0       1      2   \n",
       "2                 2         1             1       0       2      6   \n",
       "3                 2         1             2       1       0      6   \n",
       "4                 2         1             1       0       1      7   \n",
       "...             ...       ...           ...     ...     ...    ...   \n",
       "14994             2         1             2       0       2      9   \n",
       "14995             2         2             1       0       2      9   \n",
       "14996             2         1             1       0       1      7   \n",
       "14997             1         2             1       1       2      2   \n",
       "14998             2         2             2       0       1      7   \n",
       "\n",
       "       last_evaluation  ...  number_project  average_montly_hours  \\\n",
       "0                 0.36  ...               3                   168   \n",
       "1                 0.36  ...               5                   159   \n",
       "2                 0.36  ...               2                   282   \n",
       "3                 0.36  ...               4                   278   \n",
       "4                 0.36  ...               6                   256   \n",
       "...                ...  ...             ...                   ...   \n",
       "14994             1.00  ...               4                   252   \n",
       "14995             1.00  ...               4                   232   \n",
       "14996             1.00  ...               5                   242   \n",
       "14997             1.00  ...               5                   223   \n",
       "14998             1.00  ...               2                   155   \n",
       "\n",
       "       time_spend_company  Work_accident  promotion_last_5years  \\\n",
       "0                       3              1                      0   \n",
       "1                       2              0                      0   \n",
       "2                       3              0                      0   \n",
       "3                       4              1                      0   \n",
       "4                       5              0                      0   \n",
       "...                   ...            ...                    ...   \n",
       "14994                   5              0                      0   \n",
       "14995                   5              0                      0   \n",
       "14996                   5              0                      0   \n",
       "14997                   6              0                      0   \n",
       "14998                   5              0                      0   \n",
       "\n",
       "       LinkedIn_Hits  Leave  EMP_Engagement_mean  Emp_Competitive_mean  \\\n",
       "0                  5    1.0                  4.2                   2.4   \n",
       "1                 58    0.0                  4.2                   2.0   \n",
       "2                 42    1.0                  4.2                   2.8   \n",
       "3                 37    1.0                  4.2                   2.0   \n",
       "4                  6    1.0                  4.2                   2.8   \n",
       "...              ...    ...                  ...                   ...   \n",
       "14994              1    1.0                  1.8                   1.8   \n",
       "14995              6    1.0                  1.8                   3.0   \n",
       "14996              4    1.0                  1.8                   2.2   \n",
       "14997              2    1.0                  1.8                   2.0   \n",
       "14998              6    0.0                  1.8                   2.2   \n",
       "\n",
       "       Emp_Collaborative_mean  \n",
       "0                         2.4  \n",
       "1                         3.2  \n",
       "2                         3.2  \n",
       "3                         2.4  \n",
       "4                         3.4  \n",
       "...                       ...  \n",
       "14994                     2.4  \n",
       "14995                     3.6  \n",
       "14996                     3.6  \n",
       "14997                     2.4  \n",
       "14998                     2.4  \n",
       "\n",
       "[14999 rows x 27 columns]"
      ]
     },
     "execution_count": 47,
     "metadata": {},
     "output_type": "execute_result"
    }
   ],
   "source": [
    "dataFilt\n",
    "##Vizualização do novo DataFrame"
   ]
  },
  {
   "cell_type": "code",
   "execution_count": null,
   "metadata": {},
   "outputs": [],
   "source": []
  },
  {
   "cell_type": "code",
   "execution_count": 48,
   "metadata": {},
   "outputs": [
    {
     "data": {
      "text/plain": [
       "<matplotlib.axes._subplots.AxesSubplot at 0x1458eaa4c88>"
      ]
     },
     "execution_count": 48,
     "metadata": {},
     "output_type": "execute_result"
    },
    {
     "data": {
      "image/png": "[encoded data removed]",
      "text/plain": [
       "<Figure size 1152x648 with 2 Axes>"
      ]
     },
     "metadata": {
      "needs_background": "light"
     },
     "output_type": "display_data"
    }
   ],
   "source": [
    "plt.figure(figsize=(16,9))\n",
    "sns.heatmap(dataFilt.corr())\n",
    "##Um mapa de calor para indicar a correlação entre as variáveis."
   ]
  },
  {
   "cell_type": "markdown",
   "metadata": {},
   "source": [
    "No mapa de calor acima podemos concluir que os dados das colunas 'Role', 'GEO', 'Department', 'Validated_Talent_Level', 'Emp_Work_mean', 'Emp_Collaborative_mean' e 'sales' não são influenciados ou influenciam os outros dados, pois, como podemos visualizar pelas cores, sua correlação é constante (exceto quando relacionados consigo mesmos).\n",
    "\n",
    "Podemos estabelecer também associações de determinados dados com outros, como a média de horas mensais e a saída de funcionários, engajamento dos funcionários e os cargos, entre outras correlações. Logo, esses dados podem ser manipulados no mundo real de forma que possamos ajustar os valores para que atenda as exigências."
   ]
  },
  {
   "cell_type": "code",
   "execution_count": null,
   "metadata": {},
   "outputs": [],
   "source": []
  },
  {
   "cell_type": "code",
   "execution_count": null,
   "metadata": {},
   "outputs": [],
   "source": []
  },
  {
   "cell_type": "markdown",
   "metadata": {},
   "source": [
    "## Desafio 2"
   ]
  },
  {
   "cell_type": "markdown",
   "metadata": {},
   "source": [
    "Vamos treinar e testar dados que influenciam na saída de funcionários para avaliarmos como resolver esta questão. Para isso dividiremos os dados a princípio em dois, X e y."
   ]
  },
  {
   "cell_type": "code",
   "execution_count": 49,
   "metadata": {},
   "outputs": [],
   "source": [
    "X = dataFilt[[ 'Sensor_StepCount', 'Emp_Title' , 'Emp_Position', 'Emp_Role', 'Emp_Identity', 'Gender', 'salary', 'sales', 'last_evaluation', 'EMP_Sat_Remote_mean', 'Percent_Remote' ,'Emp_Work_mean' ,'Role' , 'GEO' ,'Department', 'number_project', 'average_montly_hours', 'Work_accident', 'promotion_last_5years', 'LinkedIn_Hits', 'Emp_Competitive_mean', 'Emp_Collaborative_mean']]\n",
    "y = dataFilt['EMP_Engagement_mean']"
   ]
  },
  {
   "cell_type": "code",
   "execution_count": 50,
   "metadata": {},
   "outputs": [],
   "source": [
    "from sklearn.model_selection import train_test_split\n",
    "##Dividindo os dados em teste e treino"
   ]
  },
  {
   "cell_type": "code",
   "execution_count": 51,
   "metadata": {},
   "outputs": [],
   "source": [
    "X_train, X_test, y_train, y_test = train_test_split(X, y, test_size=0.3, random_state=101)"
   ]
  },
  {
   "cell_type": "code",
   "execution_count": 52,
   "metadata": {},
   "outputs": [],
   "source": [
    "from sklearn.linear_model import LinearRegression\n",
    "## Importando do LinearRegression do sklearn_model"
   ]
  },
  {
   "cell_type": "code",
   "execution_count": 53,
   "metadata": {},
   "outputs": [],
   "source": [
    "lm = LinearRegression()\n",
    "##Instanciando de modelo linear"
   ]
  },
  {
   "cell_type": "code",
   "execution_count": 54,
   "metadata": {},
   "outputs": [
    {
     "data": {
      "text/plain": [
       "LinearRegression(copy_X=True, fit_intercept=True, n_jobs=None, normalize=False)"
      ]
     },
     "execution_count": 54,
     "metadata": {},
     "output_type": "execute_result"
    }
   ],
   "source": [
    "lm.fit(X_train,y_train)\n",
    "##treianando modelos"
   ]
  },
  {
   "cell_type": "code",
   "execution_count": 55,
   "metadata": {},
   "outputs": [
    {
     "name": "stdout",
     "output_type": "stream",
     "text": [
      "[ 8.99297027e-05  2.16783561e-01  2.41500038e-01  2.54930383e-01\n",
      "  2.59604056e-01  4.45746388e-03 -6.44889299e-02 -2.58331278e-03\n",
      " -1.19190208e+00  5.49972011e-01 -4.24226361e+00  1.01324739e-02\n",
      "  9.36124983e-03 -3.51204491e-04 -1.31625029e-03  1.36713489e-01\n",
      "  5.10184419e-04  2.65683607e-01 -9.56174046e-01  6.05263244e-04\n",
      "  1.64355583e-01 -5.43784013e-03]\n"
     ]
    }
   ],
   "source": [
    "print(lm.coef_)\n",
    "##coeficientes do modelo"
   ]
  },
  {
   "cell_type": "code",
   "execution_count": 56,
   "metadata": {},
   "outputs": [],
   "source": [
    "predictions = lm.predict( X_test)\n",
    "##Prevendo o conjunto X_test dos dados"
   ]
  },
  {
   "cell_type": "code",
   "execution_count": 57,
   "metadata": {},
   "outputs": [
    {
     "data": {
      "text/plain": [
       "Text(0, 0.5, 'predictions')"
      ]
     },
     "execution_count": 57,
     "metadata": {},
     "output_type": "execute_result"
    },
    {
     "data": {
      "image/png": "[encoded data removed]",
      "text/plain": [
       "<Figure size 432x288 with 1 Axes>"
      ]
     },
     "metadata": {
      "needs_background": "light"
     },
     "output_type": "display_data"
    }
   ],
   "source": [
    "plt.scatter(y_test, predictions, s = 1, )\n",
    "plt.xlabel('y_test')\n",
    "plt.ylabel('predictions')\n",
    "##Para indicar a correlação entre a predição e o y_test"
   ]
  },
  {
   "cell_type": "code",
   "execution_count": 58,
   "metadata": {},
   "outputs": [
    {
     "name": "stdout",
     "output_type": "stream",
     "text": [
      "MAE: 0.611209370939974\n",
      "MSE: 0.5907028253850215\n",
      "RMSE: 0.7685719389784027\n"
     ]
    }
   ],
   "source": [
    "##Avaliando o modelo\n",
    "\n",
    "from sklearn import metrics\n",
    "print('MAE:', metrics.mean_absolute_error(y_test, predictions))\n",
    "print('MSE:', metrics.mean_squared_error(y_test, predictions))\n",
    "print('RMSE:', np.sqrt(metrics.mean_squared_error(y_test, predictions)))"
   ]
  },
  {
   "cell_type": "code",
   "execution_count": 59,
   "metadata": {},
   "outputs": [
    {
     "data": {
      "text/html": [
       "<div>\n",
       "<style scoped>\n",
       "    .dataframe tbody tr th:only-of-type {\n",
       "        vertical-align: middle;\n",
       "    }\n",
       "\n",
       "    .dataframe tbody tr th {\n",
       "        vertical-align: top;\n",
       "    }\n",
       "\n",
       "    .dataframe thead th {\n",
       "        text-align: right;\n",
       "    }\n",
       "</style>\n",
       "<table border=\"1\" class=\"dataframe\">\n",
       "  <thead>\n",
       "    <tr style=\"text-align: right;\">\n",
       "      <th></th>\n",
       "      <th>Coeffecient</th>\n",
       "    </tr>\n",
       "  </thead>\n",
       "  <tbody>\n",
       "    <tr>\n",
       "      <th>Sensor_StepCount</th>\n",
       "      <td>0.000090</td>\n",
       "    </tr>\n",
       "    <tr>\n",
       "      <th>Emp_Title</th>\n",
       "      <td>0.216784</td>\n",
       "    </tr>\n",
       "    <tr>\n",
       "      <th>Emp_Position</th>\n",
       "      <td>0.241500</td>\n",
       "    </tr>\n",
       "    <tr>\n",
       "      <th>Emp_Role</th>\n",
       "      <td>0.254930</td>\n",
       "    </tr>\n",
       "    <tr>\n",
       "      <th>Emp_Identity</th>\n",
       "      <td>0.259604</td>\n",
       "    </tr>\n",
       "    <tr>\n",
       "      <th>Gender</th>\n",
       "      <td>0.004457</td>\n",
       "    </tr>\n",
       "    <tr>\n",
       "      <th>salary</th>\n",
       "      <td>-0.064489</td>\n",
       "    </tr>\n",
       "    <tr>\n",
       "      <th>sales</th>\n",
       "      <td>-0.002583</td>\n",
       "    </tr>\n",
       "    <tr>\n",
       "      <th>last_evaluation</th>\n",
       "      <td>-1.191902</td>\n",
       "    </tr>\n",
       "    <tr>\n",
       "      <th>EMP_Sat_Remote_mean</th>\n",
       "      <td>0.549972</td>\n",
       "    </tr>\n",
       "    <tr>\n",
       "      <th>Percent_Remote</th>\n",
       "      <td>-4.242264</td>\n",
       "    </tr>\n",
       "    <tr>\n",
       "      <th>Emp_Work_mean</th>\n",
       "      <td>0.010132</td>\n",
       "    </tr>\n",
       "    <tr>\n",
       "      <th>Role</th>\n",
       "      <td>0.009361</td>\n",
       "    </tr>\n",
       "    <tr>\n",
       "      <th>GEO</th>\n",
       "      <td>-0.000351</td>\n",
       "    </tr>\n",
       "    <tr>\n",
       "      <th>Department</th>\n",
       "      <td>-0.001316</td>\n",
       "    </tr>\n",
       "    <tr>\n",
       "      <th>number_project</th>\n",
       "      <td>0.136713</td>\n",
       "    </tr>\n",
       "    <tr>\n",
       "      <th>average_montly_hours</th>\n",
       "      <td>0.000510</td>\n",
       "    </tr>\n",
       "    <tr>\n",
       "      <th>Work_accident</th>\n",
       "      <td>0.265684</td>\n",
       "    </tr>\n",
       "    <tr>\n",
       "      <th>promotion_last_5years</th>\n",
       "      <td>-0.956174</td>\n",
       "    </tr>\n",
       "    <tr>\n",
       "      <th>LinkedIn_Hits</th>\n",
       "      <td>0.000605</td>\n",
       "    </tr>\n",
       "    <tr>\n",
       "      <th>Emp_Competitive_mean</th>\n",
       "      <td>0.164356</td>\n",
       "    </tr>\n",
       "    <tr>\n",
       "      <th>Emp_Collaborative_mean</th>\n",
       "      <td>-0.005438</td>\n",
       "    </tr>\n",
       "  </tbody>\n",
       "</table>\n",
       "</div>"
      ],
      "text/plain": [
       "                        Coeffecient\n",
       "Sensor_StepCount           0.000090\n",
       "Emp_Title                  0.216784\n",
       "Emp_Position               0.241500\n",
       "Emp_Role                   0.254930\n",
       "Emp_Identity               0.259604\n",
       "Gender                     0.004457\n",
       "salary                    -0.064489\n",
       "sales                     -0.002583\n",
       "last_evaluation           -1.191902\n",
       "EMP_Sat_Remote_mean        0.549972\n",
       "Percent_Remote            -4.242264\n",
       "Emp_Work_mean              0.010132\n",
       "Role                       0.009361\n",
       "GEO                       -0.000351\n",
       "Department                -0.001316\n",
       "number_project             0.136713\n",
       "average_montly_hours       0.000510\n",
       "Work_accident              0.265684\n",
       "promotion_last_5years     -0.956174\n",
       "LinkedIn_Hits              0.000605\n",
       "Emp_Competitive_mean       0.164356\n",
       "Emp_Collaborative_mean    -0.005438"
      ]
     },
     "execution_count": 59,
     "metadata": {},
     "output_type": "execute_result"
    }
   ],
   "source": [
    "##Interpretando o coeficiente\n",
    "coeffecients = pd.DataFrame(lm.coef_,X.columns)\n",
    "coeffecients.columns = ['Coeffecient']\n",
    "coeffecients"
   ]
  },
  {
   "cell_type": "markdown",
   "metadata": {},
   "source": [
    "## Interpretando:\n",
    "    \n",
    "A partir dessa análise podemos estabelecer que variáveis como Emp_Title e Emp_Role influenciam em um engajamento positivo, mas por se tratar de cargos e títulos, são dificilmente manipulaveis pela empresa, pois pode gerar gastos. Um dado que impacta positivamente no engajamento é o número de projetos, que o incentiva em 0,13. Além disso, o Emp_Competitive_mean incentiva em 0,16. Como essas variáveis são bem mais facilmente controladas pela empresa, o modelo indica que para melhorar o engajamento dos funcionários a corporação pode investir na criação de projetos que promovam a uma competitividade saudável entre seus colaboradores."
   ]
  },
  {
   "cell_type": "code",
   "execution_count": null,
   "metadata": {},
   "outputs": [],
   "source": []
  }
 ],
 "metadata": {
  "kernelspec": {
   "display_name": "Python 3",
   "language": "python",
   "name": "python3"
  },
  "language_info": {
   "codemirror_mode": {
    "name": "ipython",
    "version": 3
   },
   "file_extension": ".py",
   "mimetype": "text/x-python",
   "name": "python",
   "nbconvert_exporter": "python",
   "pygments_lexer": "ipython3",
   "version": "3.7.6"
  }
 },
 "nbformat": 4,
 "nbformat_minor": 4
}
